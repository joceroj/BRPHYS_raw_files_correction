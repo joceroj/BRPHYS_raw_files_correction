{
 "cells": [
  {
   "cell_type": "code",
   "execution_count": 1,
   "id": "c1741ba1",
   "metadata": {},
   "outputs": [],
   "source": [
    "from __future__ import annotations\n",
    "\n",
    "from pathlib import Path\n",
    "\n",
    "import pandas as pd\n",
    "from functions.tools import get_list_files as glf\n"
   ]
  },
  {
   "cell_type": "code",
   "execution_count": 2,
   "id": "3e8fcfd0",
   "metadata": {},
   "outputs": [],
   "source": [
    "date_start = \"2024-03-01\"\n",
    "date_end = \"2025-03-02\"\n",
    "\n",
    "init_dates = pd.date_range(date_start, date_end, freq=\"1D\")"
   ]
  },
  {
   "cell_type": "code",
   "execution_count": 3,
   "id": "fcddb485",
   "metadata": {},
   "outputs": [],
   "source": [
    "# ===========================================\n",
    "# # Creating the file lists\n",
    "# ===========================================\n",
    "\n",
    "brphys_mask = (\n",
    "    \"/storage/research/actual01/disk1/urban/obs/LiDAR/Bristol/BRPHYS/%Y/%Y%m/%Y%m%d\"\n",
    ")\n",
    "\n",
    "file_vad_mask = \"VAD*.hpl\"\n",
    "file_ver_mask = \"Stare*.hpl\"\n",
    "file_user_mask = \"User*.hpl\"\n",
    "file_wind_mask = \"Wind*.hpl\"\n",
    "\n",
    "dir_mask = brphys_mask\n",
    "\n",
    "list_vad_files = glf(init_dates, dir_mask, file_wind_mask)\n",
    "list_ver_files = glf(init_dates, dir_mask, file_ver_mask)"
   ]
  },
  {
   "cell_type": "code",
   "execution_count": 4,
   "id": "dfe9a0d1",
   "metadata": {},
   "outputs": [
    {
     "ename": "KeyboardInterrupt",
     "evalue": "",
     "output_type": "error",
     "traceback": [
      "\u001b[0;31m---------------------------------------------------------------------------\u001b[0m",
      "\u001b[0;31mKeyboardInterrupt\u001b[0m                         Traceback (most recent call last)",
      "Cell \u001b[0;32mIn[4], line 53\u001b[0m\n\u001b[1;32m     48\u001b[0m                 \u001b[38;5;28mprint\u001b[39m(\u001b[38;5;124mf\u001b[39m\u001b[38;5;124m\"\u001b[39m\u001b[38;5;124m  \u001b[39m\u001b[38;5;132;01m{\u001b[39;00mfiles[\u001b[38;5;241m0\u001b[39m]\u001b[38;5;132;01m}\u001b[39;00m\u001b[38;5;124m\"\u001b[39m)  \u001b[38;5;66;03m# noqa: T201\u001b[39;00m\n\u001b[1;32m     50\u001b[0m     \u001b[38;5;28;01mreturn\u001b[39;00m header_types, header_files\n\u001b[0;32m---> 53\u001b[0m header_vad \u001b[38;5;241m=\u001b[39m \u001b[43mcount_headers\u001b[49m\u001b[43m(\u001b[49m\u001b[43mlist_vad_files\u001b[49m\u001b[43m,\u001b[49m\u001b[43m \u001b[49m\u001b[38;5;124;43m\"\u001b[39;49m\u001b[38;5;124;43mVAD\u001b[39;49m\u001b[38;5;124;43m\"\u001b[39;49m\u001b[43m)\u001b[49m\n\u001b[1;32m     54\u001b[0m header_ver \u001b[38;5;241m=\u001b[39m count_headers(list_ver_files, \u001b[38;5;124m\"\u001b[39m\u001b[38;5;124mStare\u001b[39m\u001b[38;5;124m\"\u001b[39m)\n",
      "Cell \u001b[0;32mIn[4], line 15\u001b[0m, in \u001b[0;36mcount_headers\u001b[0;34m(list_files, type_file)\u001b[0m\n\u001b[1;32m     13\u001b[0m src \u001b[38;5;241m=\u001b[39m Path(file_path)\n\u001b[1;32m     14\u001b[0m header_end_idx \u001b[38;5;241m=\u001b[39m []\n\u001b[0;32m---> 15\u001b[0m \u001b[38;5;28;01mwith\u001b[39;00m src\u001b[38;5;241m.\u001b[39mopen(\u001b[38;5;124m\"\u001b[39m\u001b[38;5;124mr\u001b[39m\u001b[38;5;124m\"\u001b[39m, encoding\u001b[38;5;241m=\u001b[39m\u001b[38;5;124m\"\u001b[39m\u001b[38;5;124mutf-8\u001b[39m\u001b[38;5;124m\"\u001b[39m, errors\u001b[38;5;241m=\u001b[39m\u001b[38;5;124m\"\u001b[39m\u001b[38;5;124mignore\u001b[39m\u001b[38;5;124m\"\u001b[39m) \u001b[38;5;28;01mas\u001b[39;00m f:\n\u001b[1;32m     16\u001b[0m     \u001b[38;5;28;01mfor\u001b[39;00m line \u001b[38;5;129;01min\u001b[39;00m f:\n\u001b[1;32m     17\u001b[0m         header_end_idx\u001b[38;5;241m.\u001b[39mappend(line)\n",
      "\u001b[0;31mKeyboardInterrupt\u001b[0m: "
     ]
    }
   ],
   "source": [
    "def count_headers(list_files: list, type_file: str) -> tuple[dict, dict]:\n",
    "    \"\"\"Count and identify all different headers of *.hpl files.\n",
    "\n",
    "    Reads only until the header end marker '****' to avoid loading entire large files.\n",
    "\n",
    "    Returns:\n",
    "        header_types: dict with unique header content and an example header as value.\n",
    "        header_files: dict with each unique header to list files that have it.\n",
    "\n",
    "    \"\"\"\n",
    "    header = []\n",
    "    for file_path in list_files:\n",
    "        src = Path(file_path)\n",
    "        header_end_idx = []\n",
    "        with src.open(\"r\", encoding=\"utf-8\", errors=\"ignore\") as f:\n",
    "            for line in f:\n",
    "                header_end_idx.append(line)\n",
    "                if line.lstrip().startswith(\"****\"):\n",
    "                    break\n",
    "\n",
    "        # filtering \"Filename:\", \"Start time:\", they generate uniqueness\n",
    "        cleaned = [\n",
    "            w for w in header_end_idx if not w.startswith((\"Filename:\", \"Start time:\"))\n",
    "        ]\n",
    "\n",
    "        header.append(cleaned)\n",
    "\n",
    "    # Counting and identifying all possible types of headers.\n",
    "    normalized_list = [tuple(sorted(w)) for w in header]\n",
    "\n",
    "    header_types = {}\n",
    "    header_files = {}\n",
    "    for idx, contenido in enumerate(normalized_list):\n",
    "        if contenido not in header_types:\n",
    "            header_types[contenido] = header[idx]\n",
    "            header_files[contenido] = []\n",
    "        header_files[contenido].append(list_files[idx])\n",
    "\n",
    "    print(f\"[{type_file}] Number of unique types of headers: {len(header_types)}\")  # noqa: T201\n",
    "\n",
    "    if len(header_types) > 1:\n",
    "        print(f\"\\n[{type_file}] Files per header type:\")  # noqa: T201\n",
    "        for tipo, files in header_files.items():\n",
    "            print(f\"- Header type {list(header_types.keys()).index(tipo) + 1}:\")  # noqa: T201\n",
    "            if len(files) > 1:\n",
    "                print(f\"  from {files[0]} to {files[-1]}\")  # noqa: T201\n",
    "            else:\n",
    "                print(f\"  {files[0]}\")  # noqa: T201\n",
    "\n",
    "    return header_types, header_files\n",
    "\n",
    "\n",
    "header_vad = count_headers(list_vad_files, \"VAD\")\n",
    "header_ver = count_headers(list_ver_files, \"Stare\")"
   ]
  },
  {
   "cell_type": "code",
   "execution_count": 5,
   "id": "58dd1d44",
   "metadata": {},
   "outputs": [
    {
     "data": {
      "text/plain": [
       "['Filename:\\tStare_18_20240319_11.hpl\\n',\n",
       " 'System ID:\\t18\\n',\n",
       " 'Number of gates:\\t3194\\n',\n",
       " 'Range gate length (m):\\t18.0\\n',\n",
       " 'Gate length (pts):\\t6\\n',\n",
       " 'Pulses/ray:\\t30000\\n',\n",
       " 'No. of rays in file:\\t1\\n',\n",
       " 'Scan type:\\tStare\\n',\n",
       " 'Focus range:\\t65535\\n',\n",
       " 'Start time:\\t20240319 11:07:10.53\\n',\n",
       " 'Resolution (m/s):\\t0.0382\\n',\n",
       " 'Altitude of measurement (center of gate) = (range gate + 0.5) * Gate length\\n',\n",
       " 'Data line 1: Decimal time (hours)  Azimuth (degrees)  Elevation (degrees) Pitch (degrees) Roll (degrees)\\n',\n",
       " 'f9.6,1x,f6.2,1x,f6.2\\n',\n",
       " 'Data line 2: Range Gate  Doppler (m/s)  Intensity (SNR + 1)  Beta (m-1 sr-1)\\n',\n",
       " 'i3,1x,f6.4,1x,f8.6,1x,e12.6 - repeat for no. gates\\n',\n",
       " '****\\n']"
      ]
     },
     "execution_count": 5,
     "metadata": {},
     "output_type": "execute_result"
    }
   ],
   "source": [
    "src = list_ver_files[0]\n",
    "lines = src.read_text(encoding=\"utf-8\", errors=\"ignore\").splitlines(keepends=True)\n",
    "\n",
    "header_end_idx = []\n",
    "for i in lines:\n",
    "    header_end_idx.append(i)\n",
    "    if i.lstrip().startswith(\"****\"):\n",
    "        break\n",
    "\n",
    "header_end_idx"
   ]
  },
  {
   "cell_type": "code",
   "execution_count": null,
   "id": "5e5c8413",
   "metadata": {},
   "outputs": [
    {
     "data": {
      "text/plain": [
       "['Filename:\\tWind_Profile_18_20250309_222318.hpl\\n',\n",
       " 'System ID:\\t18\\n',\n",
       " 'Number of gates:\\t200\\n',\n",
       " 'Range gate length (m):\\t18\\n',\n",
       " 'Gate length (pts):\\t6\\n',\n",
       " 'Pulses/ray:\\t90000\\n',\n",
       " 'No. of rays in file:\\t6\\n',\n",
       " 'Scan type:\\tWind profile\\n',\n",
       " 'Focus range:\\t65535\\n',\n",
       " 'Start time:\\t20250309 22:23:28.62\\n',\n",
       " 'Resolution (m/s):\\t0.0382\\n',\n",
       " 'Altitude of measurement (center of gate) = (range gate + 0.5) * Gate length\\n',\n",
       " 'Data line 1: Decimal time (hours)  Azimuth (degrees)  Elevation (degrees) Pitch (degrees) Roll (degrees)\\n',\n",
       " 'f9.6,1x,f6.2,1x,f6.2\\n',\n",
       " 'Data line 2: Range Gate  Doppler (m/s)  Intensity (SNR + 1)  Beta (m-1 sr-1)\\n',\n",
       " 'i3,1x,f6.4,1x,f8.6,1x,e12.6 - repeat for no. gates\\n',\n",
       " '****\\n']"
      ]
     },
     "execution_count": 23,
     "metadata": {},
     "output_type": "execute_result"
    }
   ],
   "source": [
    "src = list_vad_files[-10]\n",
    "lines = src.read_text(encoding=\"utf-8\", errors=\"ignore\").splitlines(keepends=True)\n",
    "\n",
    "header_end_idx = []\n",
    "for i in lines:\n",
    "    header_end_idx.append(i)\n",
    "    if i.lstrip().startswith(\"****\"):\n",
    "        break\n",
    "\n",
    "header_end_idx"
   ]
  }
 ],
 "metadata": {
  "kernelspec": {
   "display_name": "racc_env",
   "language": "python",
   "name": "python3"
  },
  "language_info": {
   "codemirror_mode": {
    "name": "ipython",
    "version": 3
   },
   "file_extension": ".py",
   "mimetype": "text/x-python",
   "name": "python",
   "nbconvert_exporter": "python",
   "pygments_lexer": "ipython3",
   "version": "3.10.16"
  }
 },
 "nbformat": 4,
 "nbformat_minor": 5
}
